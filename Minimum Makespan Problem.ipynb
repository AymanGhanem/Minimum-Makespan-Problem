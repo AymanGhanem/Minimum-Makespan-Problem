{
 "cells": [
  {
   "cell_type": "code",
   "execution_count": 1,
   "metadata": {},
   "outputs": [],
   "source": [
    "from random import randint\n",
    "def greedy_scheduling(times, machines):\n",
    "    jobs  = [[] for _ in range(machines)]\n",
    "    loads = [0 for _ in range(machines)]\n",
    "    for time in times:\n",
    "        min_value = min(loads)\n",
    "        min_index = loads.index(min_value)\n",
    "        jobs[min_index].append(time)\n",
    "        loads[min_index] += time\n",
    "    return jobs, loads\n",
    "\n",
    "def ordered_scheduling(times, machines):\n",
    "    ordered_times = list(sorted(times, reverse=True))\n",
    "    jobs, loads = greedy_scheduling(ordered_times, machines)\n",
    "    return jobs, loads"
   ]
  },
  {
   "cell_type": "code",
   "execution_count": 2,
   "metadata": {},
   "outputs": [
    {
     "name": "stdout",
     "output_type": "stream",
     "text": [
      "Greedy  Schedualing :  [[13, 3, 1], [12, 7], [9, 7, 1]] [17, 19, 17] Span = 19.\n",
      "Ordered Schedualing :  [[13, 3, 1], [12, 7], [9, 7, 1]] [17, 19, 17] Span = 19.\n"
     ]
    }
   ],
   "source": [
    "times = [13,12,9,7,7,3,1,1]\n",
    "num_machines = 3\n",
    "jobs1, loads1 = greedy_scheduling(times, num_machines)\n",
    "jobs2, loads2 = ordered_scheduling(times, num_machines)\n",
    "print(\"Greedy  Schedualing : \", jobs1, loads1, f\"Span = {max(loads1)}.\")\n",
    "print(\"Ordered Schedualing : \", jobs2, loads2, f\"Span = {max(loads2)}.\")"
   ]
  },
  {
   "cell_type": "code",
   "execution_count": 3,
   "metadata": {},
   "outputs": [
    {
     "name": "stdout",
     "output_type": "stream",
     "text": [
      "Ordered schedualing is better than Greedy one by 97 times of 100 times.\n"
     ]
    }
   ],
   "source": [
    "results = []\n",
    "for i in range(100):\n",
    "    times = [randint(1,20) for _ in range(10)]\n",
    "    num_machines = randint(3,6)\n",
    "    jobs1, loads1 = greedy_scheduling(times, num_machines)\n",
    "    jobs2, loads2 = ordered_scheduling(times, num_machines)\n",
    "    results.append((max(loads1), max(loads2)))\n",
    "res = [1 if(e1>=e2) else 0 for e1, e2 in results]\n",
    "print(f\"Ordered schedualing is better than Greedy one by {sum(res)} times of 100 times.\")"
   ]
  },
  {
   "cell_type": "code",
   "execution_count": 4,
   "metadata": {},
   "outputs": [
    {
     "name": "stdout",
     "output_type": "stream",
     "text": [
      "Ordered schedualing is better than Greedy one by 97 times of 100 times.\n"
     ]
    }
   ],
   "source": [
    "results = []\n",
    "for i in range(100):\n",
    "    times = [randint(1,20) for _ in range(10)]\n",
    "    num_machines = 2\n",
    "    jobs1, loads1 = greedy_scheduling(times, num_machines)\n",
    "    jobs2, loads2 = ordered_scheduling(times, num_machines)\n",
    "    results.append((max(loads1), max(loads2)))\n",
    "res = [1 if(e1>=e2) else 0 for e1, e2 in results]\n",
    "print(f\"Ordered schedualing is better than Greedy one by {sum(res)} times of 100 times.\")"
   ]
  },
  {
   "cell_type": "code",
   "execution_count": 5,
   "metadata": {},
   "outputs": [
    {
     "name": "stdout",
     "output_type": "stream",
     "text": [
      "Greedy  Schedualing :  [[1, 2], [1]] [3, 1] Span = 3.\n",
      "Ordered Schedualing :  [[2], [1, 1]] [2, 2] Span = 2.\n"
     ]
    }
   ],
   "source": [
    "# Tight example for Greedy Alg.\n",
    "times = [1,1,2]\n",
    "num_machines = 2\n",
    "jobs1, loads1 = greedy_scheduling(times, num_machines)\n",
    "jobs2, loads2 = ordered_scheduling(times, num_machines)\n",
    "print(\"Greedy  Schedualing : \", jobs1, loads1, f\"Span = {max(loads1)}.\")\n",
    "print(\"Ordered Schedualing : \", jobs2, loads2, f\"Span = {max(loads2)}.\")"
   ]
  }
 ],
 "metadata": {
  "kernelspec": {
   "display_name": "Python 3",
   "language": "python",
   "name": "python3"
  },
  "language_info": {
   "codemirror_mode": {
    "name": "ipython",
    "version": 3
   },
   "file_extension": ".py",
   "mimetype": "text/x-python",
   "name": "python",
   "nbconvert_exporter": "python",
   "pygments_lexer": "ipython3",
   "version": "3.7.3"
  }
 },
 "nbformat": 4,
 "nbformat_minor": 2
}
